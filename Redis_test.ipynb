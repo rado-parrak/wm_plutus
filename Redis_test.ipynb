{
 "cells": [
  {
   "cell_type": "code",
   "execution_count": 1,
   "metadata": {},
   "outputs": [
    {
     "data": {
      "text/plain": [
       "b'bar'"
      ]
     },
     "execution_count": 1,
     "metadata": {},
     "output_type": "execute_result"
    }
   ],
   "source": [
    "import redis\n",
    "r = redis.StrictRedis(host='localhost', port=6379, db=0)\n",
    "r.set('foo', 'bar')\n",
    "r.get('foo')\n"
   ]
  },
  {
   "cell_type": "code",
   "execution_count": 6,
   "metadata": {},
   "outputs": [
    {
     "name": "stdout",
     "output_type": "stream",
     "text": [
      "blue\n"
     ]
    }
   ],
   "source": [
    "import redis\n",
    "import json\n",
    "r = redis.StrictRedis(host='localhost', port=6379, db=0)\n",
    "r.flushall()\n",
    "\n",
    "dummy_dict = dict()\n",
    "dummy_dict['head'] = dict()\n",
    "dummy_dict['head']['eyes'] = 'blue'\n",
    "dummy_dict['head']['hair'] = 'green'\n",
    "dummy_dict['legs'] = dict()\n",
    "dummy_dict['legs']['left'] = 'yes'\n",
    "dummy_dict['legs']['right'] = 'yes'\n",
    "\n",
    "dummy_dict_ser = json.dumps(dummy_dict) \n",
    "#print(dummy_dict_ser)\n",
    "\n",
    "# Store serialized to REDIS\n",
    "r.set('data', dummy_dict_ser)\n",
    "\n",
    "# Fetch-back\n",
    "dummy_dict_2 = json.loads(r.get('data'))\n",
    "print(dummy_dict_2['head']['eyes'])\n",
    "\n"
   ]
  }
 ],
 "metadata": {
  "kernelspec": {
   "display_name": "Python 3",
   "language": "python",
   "name": "python3"
  },
  "language_info": {
   "codemirror_mode": {
    "name": "ipython",
    "version": 3
   },
   "file_extension": ".py",
   "mimetype": "text/x-python",
   "name": "python",
   "nbconvert_exporter": "python",
   "pygments_lexer": "ipython3",
   "version": "3.7.0"
  }
 },
 "nbformat": 4,
 "nbformat_minor": 2
}
