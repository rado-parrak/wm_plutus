{
 "cells": [
  {
   "cell_type": "markdown",
   "metadata": {},
   "source": [
    "# __Codename: Plutus IO__"
   ]
  },
  {
   "cell_type": "markdown",
   "metadata": {},
   "source": [
    "##### __Functional TODOs__:\n",
    "\n",
    "1. Improve lifetime visualisation:\n",
    "2. Put Party Events in a config too\n",
    "3. Create generic \"adapter\" functions to adapt individual configs for certain behaviour\n",
    "2. Add land\n",
    "3. Add \"tax account\"\n",
    "4. Add concept of a family"
   ]
  },
  {
   "cell_type": "code",
   "execution_count": 1,
   "metadata": {},
   "outputs": [],
   "source": [
    "# libs\n",
    "import sys, logging, json\n",
    "sys.path.append(\"/home/rado/Projects/wealthManagement/plutus/\")\n",
    "\n",
    "from context.instruments import CurrentAccount, Mortgage\n",
    "from context.assets import RealEstate\n",
    "from context.agreements import RentalAgreement, UtilitiesAgreement, EmployeeContract\n",
    "from context.party import Party, Portfolio\n",
    "from context.behaviour import transfer\n",
    "from context.market import extrapolate_index\n",
    "from core.helpers import configure_run\n",
    "\n",
    "# delete log\n",
    "import os\n",
    "if os.path.exists(\"plutus.log\"): os.remove(\"plutus.log\")"
   ]
  },
  {
   "cell_type": "markdown",
   "metadata": {},
   "source": [
    "## Setup"
   ]
  },
  {
   "cell_type": "code",
   "execution_count": 2,
   "metadata": {},
   "outputs": [],
   "source": [
    "# load configmap\n",
    "with open('_configmap.json') as f: configmap = json.load(f)\n",
    "\n",
    "# configure run\n",
    "run_config, market, portfolio, logger = configure_run(configmap)"
   ]
  },
  {
   "cell_type": "code",
   "execution_count": 4,
   "metadata": {},
   "outputs": [],
   "source": [
    "# configs for complicated Events:\n",
    "\n",
    "# (1) employee contract\n",
    "# portfolio_config['employee_contracts'][0]['events'] = {'modify': [{'step':2, 'value':0}, {'step':4, 'value': 0}], 'bonus':[{'step':9, 'value':0}]}\n",
    "\n",
    "# (2) mortgage\n",
    "# mortgage_flat_events = {'cost': [{'step':4, 'value':10000}, {'step': 5, 'value': 270000}], 'income':{}}\n",
    "\n",
    "# dump to update versions:\n",
    "# with open('_config_portfolio.json', 'w') as f: json.dump(portfolio_config, f, indent=4)"
   ]
  },
  {
   "cell_type": "code",
   "execution_count": 5,
   "metadata": {},
   "outputs": [],
   "source": [
    "# party-level events\n",
    "# rado_events = {'sell': [{'step':6, 'id':'rado_mortgage_flat'}]\n",
    "#              , 'buy': [{'step':8, 'id':'rado_flat3', 'type':'RealEstate', 'current_market_value':3e6, 'property_tax':2000, 'house_community_costs':6000, 'real_estate_index':re_index}]\n",
    "#              , 'transfer': [{'step':10, 'from':'rado_current_account', 'to':'rado_saving_account','amount':1e6}]}\n",
    "\n",
    "rado_events = {'transfer': transfer(amount=25000, a='rado_current_account', b='rado_saving_account', n_years=config['n_years'], frequency=1)}"
   ]
  },
  {
   "cell_type": "markdown",
   "metadata": {},
   "source": [
    "#### [5] Parties"
   ]
  },
  {
   "cell_type": "code",
   "execution_count": 6,
   "metadata": {},
   "outputs": [],
   "source": [
    "rado = Party(id='Rado'\n",
    "             , logger=logger \n",
    "             , initial_free_cash=0\n",
    "             , initial_portfolio=Portfolio(logger, elements = portfolio)\n",
    "             , monthly_expenditures=50000\n",
    "             , discount_rate=0.015\n",
    "             , events=rado_events)"
   ]
  },
  {
   "cell_type": "markdown",
   "metadata": {},
   "source": [
    "## __Simulation__"
   ]
  },
  {
   "cell_type": "code",
   "execution_count": 7,
   "metadata": {
    "jupyter": {
     "source_hidden": true
    }
   },
   "outputs": [],
   "source": [
    "logger.info('')\n",
    "logger.info('============================================')\n",
    "logger.info('============== SIMULATION  =================')\n",
    "logger.info('============================================')\n",
    "logger.info('')"
   ]
  },
  {
   "cell_type": "code",
   "execution_count": 8,
   "metadata": {},
   "outputs": [],
   "source": [
    "rado.live(config['n_years']*12+1)"
   ]
  },
  {
   "cell_type": "markdown",
   "metadata": {},
   "source": [
    "### Plots"
   ]
  },
  {
   "cell_type": "code",
   "execution_count": 9,
   "metadata": {},
   "outputs": [],
   "source": [
    "# plots\n",
    "from core.plots import PartyPlotter\n",
    "\n",
    "plt = PartyPlotter(rado)\n",
    "#plt.plot_position_evolution()\n",
    "plt.plot_wealth_evolution()"
   ]
  }
 ],
 "metadata": {
  "kernelspec": {
   "display_name": "Python 3",
   "language": "python",
   "name": "python3"
  },
  "language_info": {
   "codemirror_mode": {
    "name": "ipython",
    "version": 3
   },
   "file_extension": ".py",
   "mimetype": "text/x-python",
   "name": "python",
   "nbconvert_exporter": "python",
   "pygments_lexer": "ipython3",
   "version": "3.8.5"
  }
 },
 "nbformat": 4,
 "nbformat_minor": 4
}
