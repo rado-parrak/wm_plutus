{
 "cells": [
  {
   "cell_type": "markdown",
   "metadata": {},
   "source": [
    "# __Codename: Plutus IO__"
   ]
  },
  {
   "cell_type": "markdown",
   "metadata": {},
   "source": [
    "##### __Functional TODOs__:\n",
    "\n",
    "1. Improve visualisations:\n",
    "  - focus on lifetime picture\n",
    "3. Add shares\n",
    "  - in company\n",
    "  - stocks\n",
    "4. Add land\n",
    "5. Add \"tax account\"\n",
    "6. Add mortgage prepayment, fix...\n",
    "7. Add concept of a family"
   ]
  },
  {
   "cell_type": "code",
   "execution_count": 1,
   "metadata": {},
   "outputs": [],
   "source": [
    "# libs\n",
    "import sys, logging, json\n",
    "sys.path.append(\"/home/rado/Projects/wealthManagement/plutus/\")\n",
    "\n",
    "from context.instruments import CurrentAccount, Mortgage\n",
    "from context.assets import RealEstate\n",
    "from context.agreements import RentalAgreement, UtilitiesAgreement, EmployeeContract\n",
    "from context.party import Party, Portfolio, setup_portfolio\n",
    "from context.behaviour import transfer\n",
    "from context.market import extrapolate_index, setup_market\n",
    "\n",
    "# delete log\n",
    "import os\n",
    "if os.path.exists(\"plutus.log\"): os.remove(\"plutus.log\")"
   ]
  },
  {
   "cell_type": "markdown",
   "metadata": {},
   "source": [
    "## Setup"
   ]
  },
  {
   "cell_type": "code",
   "execution_count": 2,
   "metadata": {},
   "outputs": [],
   "source": [
    "# (1) High-level configuration\n",
    "with open('_config_run.json') as f: config = json.load(f)\n",
    "    \n",
    "# loggers\n",
    "logger = logging.getLogger('plutusLogger')\n",
    "logger.setLevel(logging.DEBUG)\n",
    "formatter = logging.Formatter('%(asctime)s :: %(name)s | %(levelname)s | %(message)s')\n",
    "\n",
    "fileHandler = logging.FileHandler(config['logPath'])\n",
    "fileHandler.setFormatter(formatter)\n",
    "logger.addHandler(fileHandler)\n",
    "    \n",
    "# (2) Market\n",
    "with open('_config_market.json') as f: market_config = json.load(f)\n",
    "indices = setup_market(market_config, config, logger)\n",
    "\n",
    "# (3) Portfolio\n",
    "with open('_config_portfolio.json') as f: portfolio_config = json.load(f)\n",
    "portfolio = setup_portfolio(portfolio_config, indices, logger)"
   ]
  },
  {
   "cell_type": "code",
   "execution_count": null,
   "metadata": {},
   "outputs": [],
   "source": [
    "# # configs for complicated Events:\n",
    "# portfolio_config['employee_contracts'][0]['events'] = {'modify': [{'step':2, 'value':0}, {'step':4, 'value': 0}], 'bonus':[{'step':9, 'value':0}]}\n",
    "\n",
    "# # dump to update versions:\n",
    "# with open('_config_portfolio.json', 'w') as f: json.dump(portfolio_config, f, indent=4)"
   ]
  },
  {
   "cell_type": "code",
   "execution_count": null,
   "metadata": {},
   "outputs": [],
   "source": []
  },
  {
   "cell_type": "code",
   "execution_count": null,
   "metadata": {},
   "outputs": [],
   "source": []
  },
  {
   "cell_type": "code",
   "execution_count": null,
   "metadata": {},
   "outputs": [],
   "source": [
    "# instrument-level events\n",
    "mortgage_flat_events = {'cost': [{'step':4, 'value':10000}, {'step': 5, 'value': 270000}], 'income':{}}\n",
    "employee_contract_events = \n",
    "\n",
    "# party-level events\n",
    "# rado_events = {'sell': [{'step':6, 'id':'rado_mortgage_flat'}]\n",
    "#              , 'buy': [{'step':8, 'id':'rado_flat3', 'type':'RealEstate', 'current_market_value':3e6, 'property_tax':2000, 'house_community_costs':6000, 'real_estate_index':re_index}]\n",
    "#              , 'transfer': [{'step':10, 'from':'rado_current_account', 'to':'rado_saving_account','amount':1e6}]}\n",
    "\n",
    "rado_events = {'transfer': transfer(amount=25000, a='rado_current_account', b='rado_saving_account', n_years=config['n_years'], frequency=1)}\n",
    "# rado_events = {}"
   ]
  },
  {
   "cell_type": "markdown",
   "metadata": {},
   "source": [
    "#### [4] Portfolio"
   ]
  },
  {
   "cell_type": "code",
   "execution_count": null,
   "metadata": {},
   "outputs": [],
   "source": [
    "# Income\n",
    "employee_contract = EmployeeContract(id='rado_credo', salary = 100000, income_tax_rate = 0.0, logger=logger, events=employee_contract_events, n_years=4)\n",
    "\n",
    "# SA & CA\n",
    "current_account = CurrentAccount(id='rado_current_account', current_outstanding=0.0, monthly_cost= 0.0, cnit=0.0, logger=logger, primary=True)\n",
    "saving_account = CurrentAccount(id='rado_saving_account', current_outstanding=0.0, monthly_cost= 0.0, cnit=0.001, logger=logger)\n",
    "\n",
    "# Shares\n",
    "\n",
    "\n",
    "# Real Estate\n",
    "inherited_flat = RealEstate(id='rado_inherited_flat', current_market_value=1.8e6, property_tax = 2000, house_community_costs = 5000, real_estate_index = re_index, logger=logger, events=None) \n",
    "# mortgage = Mortgage(id='rado_mortgage', principal=3e6, cnit=0.02, maturity_in_years=30, logger=logger)\n",
    "# mortgage_flat = RealEstate(id='rado_mortgage_flat', current_market_value=5e6, property_tax = 2000, house_community_costs = 6000, real_estate_index = re_index, logger=logger, events=mortgage_flat_events)\n",
    "\n",
    "# Rental agreement\n",
    "rent_from_inherited_flat = RentalAgreement(id='rado_rent_from_inherited_flat', logger=logger, inflation_index=inflation_index, my_position='renter', rent=10000, yearly_costs=0)"
   ]
  },
  {
   "cell_type": "markdown",
   "metadata": {},
   "source": [
    "#### [5] Parties"
   ]
  },
  {
   "cell_type": "code",
   "execution_count": null,
   "metadata": {},
   "outputs": [],
   "source": [
    "rado = Party(id='Rado'\n",
    "             , logger=logger \n",
    "             , initial_free_cash=0\n",
    "             , initial_portfolio=Portfolio(logger, \n",
    "                                           current_account, \n",
    "                                           saving_account, \n",
    "                                           inherited_flat,\n",
    "                                           rent_from_inherited_flat,\n",
    "                                           # mortgage, \n",
    "                                           # mortgage_flat, \n",
    "                                           employee_contract)\n",
    "             , monthly_expenditures=50000\n",
    "             , discount_rate=0.015\n",
    "             , events=rado_events)"
   ]
  },
  {
   "cell_type": "markdown",
   "metadata": {},
   "source": [
    "## __Simulation__"
   ]
  },
  {
   "cell_type": "code",
   "execution_count": null,
   "metadata": {
    "jupyter": {
     "source_hidden": true
    }
   },
   "outputs": [],
   "source": [
    "logger.info('')\n",
    "logger.info('============================================')\n",
    "logger.info('============== SIMULATION  =================')\n",
    "logger.info('============================================')\n",
    "logger.info('')"
   ]
  },
  {
   "cell_type": "code",
   "execution_count": null,
   "metadata": {},
   "outputs": [],
   "source": [
    "rado.live(config['n_years']*12+1)"
   ]
  },
  {
   "cell_type": "code",
   "execution_count": null,
   "metadata": {},
   "outputs": [],
   "source": [
    "# plots\n",
    "from core.plots import PartyPlotter\n",
    "\n",
    "plt = PartyPlotter(rado)"
   ]
  },
  {
   "cell_type": "markdown",
   "metadata": {},
   "source": [
    "### Plots"
   ]
  },
  {
   "cell_type": "code",
   "execution_count": null,
   "metadata": {},
   "outputs": [],
   "source": [
    "#plt.plot_position_evolution()"
   ]
  },
  {
   "cell_type": "code",
   "execution_count": null,
   "metadata": {},
   "outputs": [],
   "source": [
    "plt.plot_wealth_evolution()"
   ]
  }
 ],
 "metadata": {
  "kernelspec": {
   "display_name": "Python 3",
   "language": "python",
   "name": "python3"
  },
  "language_info": {
   "codemirror_mode": {
    "name": "ipython",
    "version": 3
   },
   "file_extension": ".py",
   "mimetype": "text/x-python",
   "name": "python",
   "nbconvert_exporter": "python",
   "pygments_lexer": "ipython3",
   "version": "3.8.5"
  }
 },
 "nbformat": 4,
 "nbformat_minor": 4
}
