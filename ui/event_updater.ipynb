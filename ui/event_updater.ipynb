{
 "cells": [
  {
   "cell_type": "code",
   "execution_count": 1,
   "metadata": {},
   "outputs": [],
   "source": [
    "import sys, logging, json\n",
    "sys.path.append(\"/home/rado/Projects/wealthManagement/plutus/\")\n",
    "import json\n",
    "from context.party_events import update_events, buy_real_estate_on_mortgage"
   ]
  },
  {
   "cell_type": "markdown",
   "metadata": {},
   "source": [
    "# Instrument events"
   ]
  },
  {
   "cell_type": "code",
   "execution_count": 2,
   "metadata": {},
   "outputs": [],
   "source": [
    "# COMPLICATED EVENTS:\n",
    "\n",
    "# (A) INSTRUMENTS:\n",
    "# (1) employee contract\n",
    "# portfolio_config['employee_contracts'][0]['events'] = {'modify': [{'step':2, 'value':0}, {'step':4, 'value': 0}], 'bonus':[{'step':9, 'value':0}]}\n",
    "\n",
    "# (2) mortgage\n",
    "# mortgage_flat_events = {'cost': [{'step':4, 'value':10000}, {'step': 5, 'value': 270000}], 'income':{}}\n",
    "\n",
    "# dump to update versions:\n",
    "# with open('_config_portfolio.json', 'w') as f: json.dump(portfolio_config, f, indent=4)\n",
    "\n",
    "# (B) PARTY:\n",
    "# event_config['transfer'] = transfer(amount=25000, a='rado_current_account', b='rado_saving_account', n_years=run_config['n_years'], frequency=1)\n",
    "# with open('_config_events.json', 'w') as f: json.dump(event_config, f, indent=4)"
   ]
  },
  {
   "cell_type": "code",
   "execution_count": 3,
   "metadata": {},
   "outputs": [],
   "source": [
    "# TO BE DELETED\n",
    "# party-level events\n",
    "# rado_events = {'sell': [{'step':6, 'id':'rado_mortgage_flat'}]\n",
    "#              , 'buy': [{'step':8, 'id':'rado_flat3', 'type':'RealEstate', 'current_market_value':3e6, 'property_tax':2000, 'house_community_costs':6000, 'real_estate_index':re_index}]\n",
    "#              , 'transfer': [{'step':10, 'from':'rado_current_account', 'to':'rado_saving_account','amount':1e6}]}\n",
    "# rado_events = {'transfer': transfer(amount=25000, a='rado_current_account', b='rado_saving_account', n_years=config['n_years'], frequency=1)}"
   ]
  },
  {
   "cell_type": "markdown",
   "metadata": {},
   "source": [
    "# Party events"
   ]
  },
  {
   "cell_type": "code",
   "execution_count": 4,
   "metadata": {},
   "outputs": [],
   "source": [
    "EVENT_CONFIG = '_config_events.json'"
   ]
  },
  {
   "cell_type": "code",
   "execution_count": 5,
   "metadata": {},
   "outputs": [],
   "source": [
    "with open(EVENT_CONFIG) as f: event_config = json.load(f)"
   ]
  },
  {
   "cell_type": "code",
   "execution_count": 6,
   "metadata": {},
   "outputs": [],
   "source": [
    "# Buy real estate on mortgage\n",
    "event_config = update_events(event_config, buy_real_estate_on_mortgage(step=6, \n",
    "                                                                        mortgage_principal=1.5e6, \n",
    "                                                                        mortgage_cnit=0.02, \n",
    "                                                                        mortgage_maturity=3,\n",
    "                                                                        real_estate_value=1.5e6,\n",
    "                                                                        real_estate_property_tax=2000,\n",
    "                                                                        house_community_costs=3000,\n",
    "                                                                        real_estate_index_name='real_estate_index',\n",
    "                                                                        events={}))"
   ]
  },
  {
   "cell_type": "code",
   "execution_count": 7,
   "metadata": {},
   "outputs": [],
   "source": [
    "# store back\n",
    "with open(EVENT_CONFIG, 'w') as f: json.dump(event_config, f, indent=4)\n",
    "# with open('_config_events.json', 'w') as f: json.dump(event_config, f, indent=4)"
   ]
  },
  {
   "cell_type": "code",
   "execution_count": null,
   "metadata": {},
   "outputs": [],
   "source": []
  }
 ],
 "metadata": {
  "kernelspec": {
   "display_name": "Python 3",
   "language": "python",
   "name": "python3"
  },
  "language_info": {
   "codemirror_mode": {
    "name": "ipython",
    "version": 3
   },
   "file_extension": ".py",
   "mimetype": "text/x-python",
   "name": "python",
   "nbconvert_exporter": "python",
   "pygments_lexer": "ipython3",
   "version": "3.8.5"
  }
 },
 "nbformat": 4,
 "nbformat_minor": 4
}
