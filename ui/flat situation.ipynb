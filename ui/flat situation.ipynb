{
 "cells": [
  {
   "cell_type": "code",
   "execution_count": 1,
   "metadata": {},
   "outputs": [],
   "source": [
    "import sys\n",
    "sys.path.append(\"/home/rado/Projects/wealthManagement/plutus/\")"
   ]
  },
  {
   "cell_type": "code",
   "execution_count": 2,
   "metadata": {},
   "outputs": [],
   "source": [
    "from context.instruments import CurrentAccount, Mortgage\n",
    "from context.assets import RealEstate\n",
    "from context.agreements import RentalAgreement, UtilitiesAgreement, EmployeeContract\n",
    "from context.party import Party\n",
    "from core.plots import PlutusPlotter"
   ]
  },
  {
   "cell_type": "code",
   "execution_count": 3,
   "metadata": {},
   "outputs": [
    {
     "ename": "TypeError",
     "evalue": "__init__() missing 1 required positional argument: 'linked_market_object'",
     "output_type": "error",
     "traceback": [
      "\u001b[0;31m---------------------------------------------------------------------------\u001b[0m",
      "\u001b[0;31mTypeError\u001b[0m                                 Traceback (most recent call last)",
      "\u001b[0;32m<ipython-input-3-0841de210d29>\u001b[0m in \u001b[0;36m<module>\u001b[0;34m\u001b[0m\n\u001b[1;32m     15\u001b[0m \u001b[0;34m\u001b[0m\u001b[0m\n\u001b[1;32m     16\u001b[0m \u001b[0;31m# Flat\u001b[0m\u001b[0;34m\u001b[0m\u001b[0;34m\u001b[0m\u001b[0;34m\u001b[0m\u001b[0m\n\u001b[0;32m---> 17\u001b[0;31m flat = RealEstate(id='003'\n\u001b[0m\u001b[1;32m     18\u001b[0m                     \u001b[0;34m,\u001b[0m \u001b[0mname\u001b[0m\u001b[0;34m=\u001b[0m\u001b[0;34m'Byt'\u001b[0m\u001b[0;34m\u001b[0m\u001b[0;34m\u001b[0m\u001b[0m\n\u001b[1;32m     19\u001b[0m                     \u001b[0;34m,\u001b[0m \u001b[0mcurrent_market_value\u001b[0m\u001b[0;34m=\u001b[0m\u001b[0;36m5e6\u001b[0m\u001b[0;34m\u001b[0m\u001b[0;34m\u001b[0m\u001b[0m\n",
      "\u001b[0;31mTypeError\u001b[0m: __init__() missing 1 required positional argument: 'linked_market_object'"
     ]
    }
   ],
   "source": [
    "# --- Portfolio ---\n",
    "# Current Account\n",
    "current_account = CurrentAccount(id='001'\n",
    "                                , name='Bezny ucet Rado'\n",
    "                                , current_outstanding=10000\n",
    "                                , monthly_cost= 100\n",
    "                                , cnit=0.0)\n",
    "\n",
    "# Mortgage\n",
    "mortgage = Mortgage(id='002'\n",
    "                    , name='hypoteka csob'\n",
    "                    , principal=3e6\n",
    "                    , cnit=0.02\n",
    "                    , maturity_in_years=30)\n",
    "\n",
    "# Flat\n",
    "flat = RealEstate(id='003'\n",
    "                    , name='Byt'\n",
    "                    , current_market_value=5e6\n",
    "                    , property_tax = 2000\n",
    "                    , renovation_costs = 2e5\n",
    "                    , renovation_steps = {5, 10}\n",
    "                    , house_community_costs = 6000)\n",
    "\n",
    "\n",
    "# EmployeeContract\n",
    "employeeContract = EmployeeContract(id='003'\n",
    "                                    , name='employeeCredo'\n",
    "                                    , average_yearly_validity = 1.0\n",
    "                                    , salary = 65000\n",
    "                                    , bonus_steps= set(range(6,361,6))\n",
    "                                    , bonus_rate = 0.3\n",
    "                                    , yearly_salary_trend = 0.05\n",
    "                                    , income_tax_rate = 0.42)\n",
    "\n",
    "# --- Party ---\n",
    "party = Party(name= 'Rado'\n",
    "             , initial_free_resources = 10000\n",
    "             , initial_portfolio = {current_account, mortgage, flat, employeeContract}\n",
    "             , monthly_expenditures = 20000)"
   ]
  },
  {
   "cell_type": "code",
   "execution_count": null,
   "metadata": {},
   "outputs": [],
   "source": [
    "for step in range(0, 36):\n",
    "    party.live(step)"
   ]
  },
  {
   "cell_type": "code",
   "execution_count": null,
   "metadata": {},
   "outputs": [],
   "source": [
    "plotter = PlutusPlotter(party)\n",
    "plotter.plot_resources_evolution()"
   ]
  },
  {
   "cell_type": "code",
   "execution_count": null,
   "metadata": {},
   "outputs": [],
   "source": []
  },
  {
   "cell_type": "code",
   "execution_count": null,
   "metadata": {},
   "outputs": [],
   "source": []
  },
  {
   "cell_type": "code",
   "execution_count": null,
   "metadata": {},
   "outputs": [],
   "source": []
  },
  {
   "cell_type": "code",
   "execution_count": null,
   "metadata": {},
   "outputs": [],
   "source": []
  },
  {
   "cell_type": "code",
   "execution_count": null,
   "metadata": {},
   "outputs": [],
   "source": []
  },
  {
   "cell_type": "code",
   "execution_count": null,
   "metadata": {},
   "outputs": [],
   "source": []
  },
  {
   "cell_type": "code",
   "execution_count": null,
   "metadata": {},
   "outputs": [],
   "source": []
  },
  {
   "cell_type": "code",
   "execution_count": null,
   "metadata": {},
   "outputs": [],
   "source": []
  },
  {
   "cell_type": "code",
   "execution_count": null,
   "metadata": {},
   "outputs": [],
   "source": []
  },
  {
   "cell_type": "code",
   "execution_count": null,
   "metadata": {},
   "outputs": [],
   "source": []
  },
  {
   "cell_type": "code",
   "execution_count": null,
   "metadata": {},
   "outputs": [],
   "source": []
  },
  {
   "cell_type": "code",
   "execution_count": null,
   "metadata": {},
   "outputs": [],
   "source": []
  },
  {
   "cell_type": "code",
   "execution_count": null,
   "metadata": {},
   "outputs": [],
   "source": []
  },
  {
   "cell_type": "code",
   "execution_count": null,
   "metadata": {},
   "outputs": [],
   "source": []
  },
  {
   "cell_type": "code",
   "execution_count": null,
   "metadata": {},
   "outputs": [],
   "source": [
    "mortgage.calculateNumberOfPeriods()\n",
    "mortgage.calculateMonthlyPayment()\n",
    "paid_principal = 0\n",
    "paid_interest = 0\n",
    "\n",
    "print(mortgage.monthly_interest_rate)\n",
    "\n",
    "for step in range(0,mortgage.number_of_periods+1):\n",
    "    mortgage.calculateInterestPayment(step)\n",
    "    mortgage.calculatePrincipalPayment(step)\n",
    "    mortgage.calculateOutstandingAmount(step)\n",
    "    \n",
    "    paid_principal = paid_principal + mortgage.principal_payment[step]\n",
    "    paid_interest = paid_interest + mortgage.interest_payment[step]\n",
    "    \n",
    "    print('[step ' + str(step) + '] outstanding: ' + \"%.2f\"%mortgage.outstanding_amount[step] +\n",
    "         ' | mp: ' + \"%.2f\"%mortgage.monthly_payment +\n",
    "         ' | pp: ' + \"%.2f\"%mortgage.principal_payment[step] +\n",
    "         ' | ip: ' + \"%.2f\"%mortgage.interest_payment[step] +\n",
    "         ' | total pp: ' + \"%.2f\"%paid_principal +\n",
    "         ' | total ip: ' + \"%.2f\"%paid_interest)"
   ]
  },
  {
   "cell_type": "code",
   "execution_count": null,
   "metadata": {},
   "outputs": [],
   "source": [
    "inflation = 0.03\n",
    "market_trend = 0.02\n",
    "\n",
    "for step in range(0,10):\n",
    "    flat.projectPrice(step, inflation, market_trend)\n",
    "    print('[step ' + str(step) + '] flat price: ' + \"%.2f\"%flat.price[step])"
   ]
  },
  {
   "cell_type": "code",
   "execution_count": null,
   "metadata": {},
   "outputs": [],
   "source": [
    "property_tax= 25\n",
    "renovation_costs = 200\n",
    "renovation_steps = {5, 10}\n",
    "house_community_costs = 15\n",
    "    \n",
    "for step in range(0,11):\n",
    "    flat.projectCosts(step, property_tax, renovation_costs, renovation_steps, house_community_costs)\n",
    "    print('[step ' + str(step) + '] flat costs: ' + \"%.2f\"%flat.costs[step])"
   ]
  }
 ],
 "metadata": {
  "kernelspec": {
   "display_name": "Python 3",
   "language": "python",
   "name": "python3"
  },
  "language_info": {
   "codemirror_mode": {
    "name": "ipython",
    "version": 3
   },
   "file_extension": ".py",
   "mimetype": "text/x-python",
   "name": "python",
   "nbconvert_exporter": "python",
   "pygments_lexer": "ipython3",
   "version": "3.8.5"
  }
 },
 "nbformat": 4,
 "nbformat_minor": 4
}
