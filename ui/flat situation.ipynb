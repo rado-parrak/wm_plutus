{
 "cells": [
  {
   "cell_type": "code",
   "execution_count": 1,
   "metadata": {},
   "outputs": [],
   "source": [
    "import sys\n",
    "sys.path.append(\"R:/01_Analytics/plutusIO/02_code/Python\")\n",
    "from context.instruments import CurrentAccount, Mortgage\n",
    "from context.assets import RealEstate\n",
    "from context.agreements import RentalAgreement, UtilitiesAgreement, EmployeeContract\n",
    "from context.party import Party\n",
    "from core.plots import PlutusPlotter"
   ]
  },
  {
   "cell_type": "code",
   "execution_count": 2,
   "metadata": {},
   "outputs": [],
   "source": [
    "# --- Portfolio ---\n",
    "# Current Account\n",
    "current_account = CurrentAccount(id='001'\n",
    "                                , name='Bezny ucet Rado'\n",
    "                                , current_outstanding=10000\n",
    "                                , monthly_cost= 100\n",
    "                                , cnit=0.0)\n",
    "\n",
    "# Mortgage\n",
    "mortgage = Mortgage(id='002'\n",
    "                    , name='hypoteka csob'\n",
    "                    , principal=3e6\n",
    "                    , cnit=0.02\n",
    "                    , maturity_in_years=30)\n",
    "\n",
    "# Flat\n",
    "flat = RealEstate(id='003'\n",
    "                    , name='Byt'\n",
    "                    , current_market_value=5e6\n",
    "                    , property_tax = 2000\n",
    "                    , renovation_costs = 2e5\n",
    "                    , renovation_steps = {5, 10}\n",
    "                    , house_community_costs = 6000)\n",
    "\n",
    "\n",
    "# EmployeeContract\n",
    "employeeContract = EmployeeContract(id='003'\n",
    "                                    , name='zamestnanec Credo'\n",
    "                                    , average_yearly_validity = 1.0\n",
    "                                    , salary = 65000\n",
    "                                    , bonus_steps= set(range(6,361,6))\n",
    "                                    , bonus_rate = 0.3\n",
    "                                    , yearly_salary_trend = 0.05\n",
    "                                    , income_tax_rate = 0.42)\n",
    "\n",
    "# --- Party ---\n",
    "party = Party(name= 'Rado'\n",
    "             , initial_free_resources = 1e5\n",
    "             , initial_portfolio = {current_account, mortgage, flat, employeeContract}\n",
    "             , monthly_expenditures = 20000)"
   ]
  },
  {
   "cell_type": "code",
   "execution_count": 3,
   "metadata": {},
   "outputs": [
    {
     "ename": "KeyError",
     "evalue": "0",
     "output_type": "error",
     "traceback": [
      "\u001b[1;31m---------------------------------------------------------------------------\u001b[0m",
      "\u001b[1;31mKeyError\u001b[0m                                  Traceback (most recent call last)",
      "\u001b[1;32m<ipython-input-3-695f644500ba>\u001b[0m in \u001b[0;36m<module>\u001b[1;34m()\u001b[0m\n\u001b[0;32m      1\u001b[0m \u001b[1;32mfor\u001b[0m \u001b[0mstep\u001b[0m \u001b[1;32min\u001b[0m \u001b[0mrange\u001b[0m\u001b[1;33m(\u001b[0m\u001b[1;36m0\u001b[0m\u001b[1;33m,\u001b[0m \u001b[1;36m36\u001b[0m\u001b[1;33m)\u001b[0m\u001b[1;33m:\u001b[0m\u001b[1;33m\u001b[0m\u001b[0m\n\u001b[1;32m----> 2\u001b[1;33m     \u001b[0mparty\u001b[0m\u001b[1;33m.\u001b[0m\u001b[0mlive\u001b[0m\u001b[1;33m(\u001b[0m\u001b[0mstep\u001b[0m\u001b[1;33m)\u001b[0m\u001b[1;33m\u001b[0m\u001b[0m\n\u001b[0m",
      "\u001b[1;32mR:\\01_Analytics\\plutusIO\\02_code\\Python\\context\\party.py\u001b[0m in \u001b[0;36mlive\u001b[1;34m(self, step, verbose)\u001b[0m\n\u001b[0;32m     83\u001b[0m \u001b[1;33m\u001b[0m\u001b[0m\n\u001b[0;32m     84\u001b[0m     \u001b[1;32mdef\u001b[0m \u001b[0mlive\u001b[0m\u001b[1;33m(\u001b[0m\u001b[0mself\u001b[0m\u001b[1;33m,\u001b[0m \u001b[0mstep\u001b[0m\u001b[1;33m,\u001b[0m \u001b[0mverbose\u001b[0m\u001b[1;33m=\u001b[0m\u001b[1;32mFalse\u001b[0m\u001b[1;33m)\u001b[0m\u001b[1;33m:\u001b[0m\u001b[1;33m\u001b[0m\u001b[0m\n\u001b[1;32m---> 85\u001b[1;33m         \u001b[0mself\u001b[0m\u001b[1;33m.\u001b[0m\u001b[0mcalculate_free_resources\u001b[0m\u001b[1;33m(\u001b[0m\u001b[0mstep\u001b[0m\u001b[1;33m,\u001b[0m \u001b[0mverbose\u001b[0m\u001b[1;33m)\u001b[0m\u001b[1;33m\u001b[0m\u001b[0m\n\u001b[0m\u001b[0;32m     86\u001b[0m         \u001b[0mself\u001b[0m\u001b[1;33m.\u001b[0m\u001b[0mallocate_free_resources\u001b[0m\u001b[1;33m(\u001b[0m\u001b[0mstep\u001b[0m\u001b[1;33m,\u001b[0m \u001b[0mverbose\u001b[0m\u001b[1;33m)\u001b[0m\u001b[1;33m\u001b[0m\u001b[0m\n",
      "\u001b[1;32mR:\\01_Analytics\\plutusIO\\02_code\\Python\\context\\party.py\u001b[0m in \u001b[0;36mcalculate_free_resources\u001b[1;34m(self, step, verbose)\u001b[0m\n\u001b[0;32m     63\u001b[0m         \u001b[0mself\u001b[0m\u001b[1;33m.\u001b[0m\u001b[0mrefresh_portfolio\u001b[0m\u001b[1;33m(\u001b[0m\u001b[0mstep\u001b[0m\u001b[1;33m)\u001b[0m\u001b[1;33m\u001b[0m\u001b[0m\n\u001b[0;32m     64\u001b[0m         \u001b[0mself\u001b[0m\u001b[1;33m.\u001b[0m\u001b[0mcalculate_resources\u001b[0m\u001b[1;33m(\u001b[0m\u001b[0mstep\u001b[0m\u001b[1;33m)\u001b[0m\u001b[1;33m\u001b[0m\u001b[0m\n\u001b[1;32m---> 65\u001b[1;33m         \u001b[0mself\u001b[0m\u001b[1;33m.\u001b[0m\u001b[0mcalculate_expenditures\u001b[0m\u001b[1;33m(\u001b[0m\u001b[0mstep\u001b[0m\u001b[1;33m)\u001b[0m\u001b[1;33m\u001b[0m\u001b[0m\n\u001b[0m\u001b[0;32m     66\u001b[0m         \u001b[0mself\u001b[0m\u001b[1;33m.\u001b[0m\u001b[0mfree_resources\u001b[0m\u001b[1;33m[\u001b[0m\u001b[0mstep\u001b[0m\u001b[1;33m]\u001b[0m \u001b[1;33m=\u001b[0m \u001b[0mself\u001b[0m\u001b[1;33m.\u001b[0m\u001b[0mresources\u001b[0m\u001b[1;33m[\u001b[0m\u001b[0mstep\u001b[0m\u001b[1;33m]\u001b[0m \u001b[1;33m-\u001b[0m \u001b[0mself\u001b[0m\u001b[1;33m.\u001b[0m\u001b[0mexpenditures\u001b[0m\u001b[1;33m[\u001b[0m\u001b[0mstep\u001b[0m\u001b[1;33m]\u001b[0m\u001b[1;33m\u001b[0m\u001b[0m\n\u001b[0;32m     67\u001b[0m \u001b[1;33m\u001b[0m\u001b[0m\n",
      "\u001b[1;32mR:\\01_Analytics\\plutusIO\\02_code\\Python\\context\\party.py\u001b[0m in \u001b[0;36mcalculate_expenditures\u001b[1;34m(self, step)\u001b[0m\n\u001b[0;32m     34\u001b[0m             \u001b[1;32mif\u001b[0m \u001b[0misinstance\u001b[0m\u001b[1;33m(\u001b[0m\u001b[0mitem\u001b[0m\u001b[1;33m,\u001b[0m \u001b[0mCurrentAccount\u001b[0m\u001b[1;33m)\u001b[0m\u001b[1;33m:\u001b[0m\u001b[1;33m\u001b[0m\u001b[0m\n\u001b[0;32m     35\u001b[0m                 \u001b[0mitem\u001b[0m\u001b[1;33m.\u001b[0m\u001b[0mproject_costs\u001b[0m\u001b[1;33m(\u001b[0m\u001b[0mstep\u001b[0m\u001b[1;33m)\u001b[0m\u001b[1;33m\u001b[0m\u001b[0m\n\u001b[1;32m---> 36\u001b[1;33m                 \u001b[0mexpenditures_from_this_item\u001b[0m \u001b[1;33m=\u001b[0m \u001b[0mitem\u001b[0m\u001b[1;33m.\u001b[0m\u001b[0mcosts\u001b[0m\u001b[1;33m[\u001b[0m\u001b[0mstep\u001b[0m\u001b[1;33m]\u001b[0m\u001b[1;33m\u001b[0m\u001b[0m\n\u001b[0m\u001b[0;32m     37\u001b[0m                 \u001b[0mexpenditures\u001b[0m \u001b[1;33m=\u001b[0m \u001b[0mexpenditures\u001b[0m \u001b[1;33m+\u001b[0m \u001b[0mexpenditures_from_this_item\u001b[0m\u001b[1;33m\u001b[0m\u001b[0m\n\u001b[0;32m     38\u001b[0m \u001b[1;33m\u001b[0m\u001b[0m\n",
      "\u001b[1;31mKeyError\u001b[0m: 0"
     ]
    }
   ],
   "source": [
    "for step in range(0, 36):\n",
    "    party.live(step)"
   ]
  },
  {
   "cell_type": "code",
   "execution_count": null,
   "metadata": {},
   "outputs": [],
   "source": [
    "plotter = PlutusPlotter(party)\n",
    "plotter.plot_resources_evolution()"
   ]
  },
  {
   "cell_type": "code",
   "execution_count": null,
   "metadata": {},
   "outputs": [],
   "source": []
  },
  {
   "cell_type": "code",
   "execution_count": null,
   "metadata": {},
   "outputs": [],
   "source": []
  },
  {
   "cell_type": "code",
   "execution_count": null,
   "metadata": {},
   "outputs": [],
   "source": []
  },
  {
   "cell_type": "code",
   "execution_count": null,
   "metadata": {},
   "outputs": [],
   "source": []
  },
  {
   "cell_type": "code",
   "execution_count": null,
   "metadata": {},
   "outputs": [],
   "source": []
  },
  {
   "cell_type": "code",
   "execution_count": null,
   "metadata": {},
   "outputs": [],
   "source": []
  },
  {
   "cell_type": "code",
   "execution_count": null,
   "metadata": {},
   "outputs": [],
   "source": []
  },
  {
   "cell_type": "code",
   "execution_count": null,
   "metadata": {},
   "outputs": [],
   "source": []
  },
  {
   "cell_type": "code",
   "execution_count": null,
   "metadata": {},
   "outputs": [],
   "source": []
  },
  {
   "cell_type": "code",
   "execution_count": null,
   "metadata": {},
   "outputs": [],
   "source": []
  },
  {
   "cell_type": "code",
   "execution_count": null,
   "metadata": {},
   "outputs": [],
   "source": []
  },
  {
   "cell_type": "code",
   "execution_count": null,
   "metadata": {},
   "outputs": [],
   "source": []
  },
  {
   "cell_type": "code",
   "execution_count": null,
   "metadata": {},
   "outputs": [],
   "source": []
  },
  {
   "cell_type": "code",
   "execution_count": null,
   "metadata": {},
   "outputs": [],
   "source": []
  },
  {
   "cell_type": "code",
   "execution_count": null,
   "metadata": {},
   "outputs": [],
   "source": [
    "mortgage.calculateNumberOfPeriods()\n",
    "mortgage.calculateMonthlyPayment()\n",
    "paid_principal = 0\n",
    "paid_interest = 0\n",
    "\n",
    "print(mortgage.monthly_interest_rate)\n",
    "\n",
    "for step in range(0,mortgage.number_of_periods+1):\n",
    "    mortgage.calculateInterestPayment(step)\n",
    "    mortgage.calculatePrincipalPayment(step)\n",
    "    mortgage.calculateOutstandingAmount(step)\n",
    "    \n",
    "    paid_principal = paid_principal + mortgage.principal_payment[step]\n",
    "    paid_interest = paid_interest + mortgage.interest_payment[step]\n",
    "    \n",
    "    print('[step ' + str(step) + '] outstanding: ' + \"%.2f\"%mortgage.outstanding_amount[step] +\n",
    "         ' | mp: ' + \"%.2f\"%mortgage.monthly_payment +\n",
    "         ' | pp: ' + \"%.2f\"%mortgage.principal_payment[step] +\n",
    "         ' | ip: ' + \"%.2f\"%mortgage.interest_payment[step] +\n",
    "         ' | total pp: ' + \"%.2f\"%paid_principal +\n",
    "         ' | total ip: ' + \"%.2f\"%paid_interest)"
   ]
  },
  {
   "cell_type": "code",
   "execution_count": null,
   "metadata": {},
   "outputs": [],
   "source": [
    "inflation = 0.03\n",
    "market_trend = 0.02\n",
    "\n",
    "for step in range(0,10):\n",
    "    flat.projectPrice(step, inflation, market_trend)\n",
    "    print('[step ' + str(step) + '] flat price: ' + \"%.2f\"%flat.price[step])"
   ]
  },
  {
   "cell_type": "code",
   "execution_count": null,
   "metadata": {},
   "outputs": [],
   "source": [
    "property_tax= 25\n",
    "renovation_costs = 200\n",
    "renovation_steps = {5, 10}\n",
    "house_community_costs = 15\n",
    "    \n",
    "for step in range(0,11):\n",
    "    flat.projectCosts(step, property_tax, renovation_costs, renovation_steps, house_community_costs)\n",
    "    print('[step ' + str(step) + '] flat costs: ' + \"%.2f\"%flat.costs[step])"
   ]
  }
 ],
 "metadata": {
  "kernelspec": {
   "display_name": "Python 3",
   "language": "python",
   "name": "python3"
  },
  "language_info": {
   "codemirror_mode": {
    "name": "ipython",
    "version": 3
   },
   "file_extension": ".py",
   "mimetype": "text/x-python",
   "name": "python",
   "nbconvert_exporter": "python",
   "pygments_lexer": "ipython3",
   "version": "3.7.6"
  }
 },
 "nbformat": 4,
 "nbformat_minor": 2
}
