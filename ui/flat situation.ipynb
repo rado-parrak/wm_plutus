{
 "cells": [
  {
   "cell_type": "markdown",
   "metadata": {},
   "source": [
    "# Simulation setup"
   ]
  },
  {
   "cell_type": "code",
   "execution_count": 1,
   "metadata": {},
   "outputs": [],
   "source": [
    "# libs\n",
    "import sys, logging\n",
    "sys.path.append(\"/home/rado/Projects/wealthManagement/plutus/\")\n",
    "\n",
    "from context.instruments import CurrentAccount, Mortgage\n",
    "from context.assets import RealEstate\n",
    "from context.agreements import RentalAgreement, UtilitiesAgreement, EmployeeContract\n",
    "from context.party import Party\n",
    "from core.plots import PlutusPlotter\n",
    "\n",
    "# delete log\n",
    "import os\n",
    "if os.path.exists(\"plutus.log\"):\n",
    "  os.remove(\"plutus.log\")"
   ]
  },
  {
   "cell_type": "markdown",
   "metadata": {},
   "source": [
    "## [1] General"
   ]
  },
  {
   "cell_type": "code",
   "execution_count": 2,
   "metadata": {},
   "outputs": [],
   "source": [
    "config = {}\n",
    "config['n_years'] = 1\n",
    "\n",
    "config['logLevel'] = logging.INFO\n",
    "config['logPath'] = 'plutus.log'"
   ]
  },
  {
   "cell_type": "code",
   "execution_count": 3,
   "metadata": {},
   "outputs": [],
   "source": [
    "# loggers\n",
    "logger = logging.getLogger('plutusLogger')\n",
    "logger.setLevel(config['logLevel'])\n",
    "formatter = logging.Formatter('%(asctime)s :: %(name)s | %(levelname)s | %(message)s')\n",
    "\n",
    "fileHandler = logging.FileHandler(config['logPath'])\n",
    "fileHandler.setFormatter(formatter)\n",
    "logger.addHandler(fileHandler)\n",
    "\n",
    "streamHandler = logging.StreamHandler()\n",
    "streamHandler.setFormatter(formatter)\n",
    "logger.addHandler(streamHandler)"
   ]
  },
  {
   "cell_type": "code",
   "execution_count": 4,
   "metadata": {},
   "outputs": [
    {
     "name": "stderr",
     "output_type": "stream",
     "text": [
      "2020-11-21 20:42:13,462 :: plutusLogger | INFO | ============================================\n",
      "2020-11-21 20:42:13,503 :: plutusLogger | INFO | ============ CONFIGURATION  ================\n",
      "2020-11-21 20:42:13,504 :: plutusLogger | INFO | ============================================\n",
      "2020-11-21 20:42:13,505 :: plutusLogger | INFO | \n",
      "2020-11-21 20:42:13,506 :: plutusLogger | INFO | [1] General: \n",
      "2020-11-21 20:42:13,507 :: plutusLogger | INFO |  - n_years: 1\n"
     ]
    }
   ],
   "source": [
    "logger.info('============================================')\n",
    "logger.info('============ CONFIGURATION  ================')\n",
    "logger.info('============================================')\n",
    "logger.info('')\n",
    "logger.info('[1] General: ')\n",
    "logger.info(' - n_years: '+str(config['n_years']))"
   ]
  },
  {
   "cell_type": "markdown",
   "metadata": {},
   "source": [
    "## [2] Market"
   ]
  },
  {
   "cell_type": "code",
   "execution_count": 5,
   "metadata": {},
   "outputs": [
    {
     "name": "stderr",
     "output_type": "stream",
     "text": [
      "2020-11-21 20:42:14,461 :: plutusLogger | INFO | \n",
      "2020-11-21 20:42:14,463 :: plutusLogger | INFO | [2] Market: \n",
      "2020-11-21 20:42:14,464 :: plutusLogger | INFO | Adding inflation index.\n",
      "2020-11-21 20:42:14,465 :: plutusLogger | INFO | Adding real-estate index.\n"
     ]
    }
   ],
   "source": [
    "logger.info('')\n",
    "logger.info('[2] Market: ')\n",
    "# inflation_index\n",
    "logger.info('Adding inflation index.')\n",
    "inflation_index={}\n",
    "inflation_rate=0.03\n",
    "inflation_index[0]=1.0\n",
    "for step in range(1,config['n_years']*12+1):\n",
    "    inflation_index[step]=inflation_index[step-1]+inflation_rate/12\n",
    "    logger.debug('Inflation index step ' + str(step) + ' : ' + str(inflation_index[step]))\n",
    "\n",
    "logger.info('Adding real-estate index.')\n",
    "# real-estate market\n",
    "re_index={}\n",
    "re_rate=0.07\n",
    "re_index[0]=1.0\n",
    "for step in range(1,config['n_years']*12+1):\n",
    "    re_index[step]=re_index[step-1]+re_rate/12\n",
    "    logger.debug('Real estate index step ' + str(step) + ' : ' + str(re_index[step]))"
   ]
  },
  {
   "cell_type": "markdown",
   "metadata": {},
   "source": [
    "## [3] Portfolio"
   ]
  },
  {
   "cell_type": "code",
   "execution_count": 6,
   "metadata": {},
   "outputs": [
    {
     "name": "stderr",
     "output_type": "stream",
     "text": [
      "2020-11-21 20:42:15,323 :: plutusLogger | INFO | \n",
      "2020-11-21 20:42:15,324 :: plutusLogger | INFO | [3] Portfolio: \n",
      "2020-11-21 20:42:15,325 :: plutusLogger | INFO | Initializing: beznyUcet\n",
      "2020-11-21 20:42:15,326 :: plutusLogger | INFO | Initializing: hypoteka\n",
      "2020-11-21 20:42:15,327 :: plutusLogger | INFO | Initializing: byt\n",
      "2020-11-21 20:42:15,328 :: plutusLogger | INFO | Initializing: employeeCredo\n"
     ]
    }
   ],
   "source": [
    "logger.info('')\n",
    "logger.info('[3] Portfolio: ')\n",
    "current_account = CurrentAccount(id='beznyUcet'\n",
    "                                 , current_outstanding=1e5\n",
    "                                 , monthly_cost= 100\n",
    "                                 , cnit=0.0\n",
    "                                 , logger=logger)\n",
    "\n",
    "mortgage = Mortgage(id='hypoteka'\n",
    "                    , principal=3e6\n",
    "                    , cnit=0.02\n",
    "                    , maturity_in_years=30\n",
    "                    , logger=logger)\n",
    "\n",
    "flat = RealEstate(id='byt'\n",
    "                  , current_market_value=5e6\n",
    "                  , property_tax = 2000\n",
    "                  , renovation_costs = 2e5\n",
    "                  , renovation_steps = {5, 10}\n",
    "                  , house_community_costs = 6000\n",
    "                  , real_estate_index = re_index\n",
    "                  , logger=logger)\n",
    "\n",
    "employeeContract = EmployeeContract(id='zamestnanec_Credo'\n",
    "                                    , average_yearly_validity = 1.0\n",
    "                                    , salary = 65000\n",
    "                                    , bonus_steps= set(range(6,361,6))\n",
    "                                    , bonus_rate = 0.3\n",
    "                                    , yearly_salary_trend = 0.05\n",
    "                                    , income_tax_rate = 0.42\n",
    "                                    , logger=logger)"
   ]
  },
  {
   "cell_type": "code",
   "execution_count": 7,
   "metadata": {},
   "outputs": [
    {
     "ename": "TypeError",
     "evalue": "__init__() missing 2 required positional arguments: 'logger' and 'discount_rate'",
     "output_type": "error",
     "traceback": [
      "\u001b[0;31m---------------------------------------------------------------------------\u001b[0m",
      "\u001b[0;31mTypeError\u001b[0m                                 Traceback (most recent call last)",
      "\u001b[0;32m<ipython-input-7-f5a005f17d74>\u001b[0m in \u001b[0;36m<module>\u001b[0;34m\u001b[0m\n\u001b[1;32m      1\u001b[0m \u001b[0;31m# --- Party ---\u001b[0m\u001b[0;34m\u001b[0m\u001b[0;34m\u001b[0m\u001b[0;34m\u001b[0m\u001b[0m\n\u001b[0;32m----> 2\u001b[0;31m party = Party(name= 'Rado'\n\u001b[0m\u001b[1;32m      3\u001b[0m              \u001b[0;34m,\u001b[0m \u001b[0minitial_free_resources\u001b[0m \u001b[0;34m=\u001b[0m \u001b[0;36m10000\u001b[0m\u001b[0;34m\u001b[0m\u001b[0;34m\u001b[0m\u001b[0m\n\u001b[1;32m      4\u001b[0m              \u001b[0;34m,\u001b[0m \u001b[0minitial_portfolio\u001b[0m \u001b[0;34m=\u001b[0m \u001b[0;34m{\u001b[0m\u001b[0mcurrent_account\u001b[0m\u001b[0;34m,\u001b[0m \u001b[0mmortgage\u001b[0m\u001b[0;34m,\u001b[0m \u001b[0mflat\u001b[0m\u001b[0;34m,\u001b[0m \u001b[0memployeeContract\u001b[0m\u001b[0;34m}\u001b[0m\u001b[0;34m\u001b[0m\u001b[0;34m\u001b[0m\u001b[0m\n\u001b[1;32m      5\u001b[0m              , monthly_expenditures = 20000)\n",
      "\u001b[0;31mTypeError\u001b[0m: __init__() missing 2 required positional arguments: 'logger' and 'discount_rate'"
     ]
    }
   ],
   "source": [
    "# --- Party ---\n",
    "party = Party(name= 'Rado'\n",
    "             , initial_free_resources = 10000\n",
    "             , initial_portfolio = {current_account, mortgage, flat, employeeContract}\n",
    "             , monthly_expenditures = 20000)"
   ]
  },
  {
   "cell_type": "code",
   "execution_count": null,
   "metadata": {},
   "outputs": [],
   "source": []
  },
  {
   "cell_type": "code",
   "execution_count": null,
   "metadata": {},
   "outputs": [],
   "source": [
    "for step in range(0, config['n_years']*12+1):\n",
    "    party.live(step)"
   ]
  },
  {
   "cell_type": "code",
   "execution_count": null,
   "metadata": {},
   "outputs": [],
   "source": []
  },
  {
   "cell_type": "code",
   "execution_count": null,
   "metadata": {},
   "outputs": [],
   "source": []
  },
  {
   "cell_type": "code",
   "execution_count": null,
   "metadata": {},
   "outputs": [],
   "source": []
  },
  {
   "cell_type": "code",
   "execution_count": null,
   "metadata": {},
   "outputs": [],
   "source": []
  },
  {
   "cell_type": "code",
   "execution_count": null,
   "metadata": {},
   "outputs": [],
   "source": []
  },
  {
   "cell_type": "code",
   "execution_count": null,
   "metadata": {},
   "outputs": [],
   "source": []
  },
  {
   "cell_type": "code",
   "execution_count": null,
   "metadata": {},
   "outputs": [],
   "source": []
  },
  {
   "cell_type": "code",
   "execution_count": null,
   "metadata": {},
   "outputs": [],
   "source": []
  },
  {
   "cell_type": "code",
   "execution_count": null,
   "metadata": {},
   "outputs": [],
   "source": []
  },
  {
   "cell_type": "code",
   "execution_count": null,
   "metadata": {},
   "outputs": [],
   "source": []
  },
  {
   "cell_type": "code",
   "execution_count": null,
   "metadata": {},
   "outputs": [],
   "source": []
  },
  {
   "cell_type": "code",
   "execution_count": null,
   "metadata": {},
   "outputs": [],
   "source": []
  },
  {
   "cell_type": "code",
   "execution_count": null,
   "metadata": {},
   "outputs": [],
   "source": []
  },
  {
   "cell_type": "code",
   "execution_count": null,
   "metadata": {},
   "outputs": [],
   "source": []
  },
  {
   "cell_type": "code",
   "execution_count": null,
   "metadata": {},
   "outputs": [],
   "source": [
    "mortgage.calculateNumberOfPeriods()\n",
    "mortgage.calculateMonthlyPayment()\n",
    "paid_principal = 0\n",
    "paid_interest = 0\n",
    "\n",
    "print(mortgage.monthly_interest_rate)\n",
    "\n",
    "for step in range(0,mortgage.number_of_periods+1):\n",
    "    mortgage.calculateInterestPayment(step)\n",
    "    mortgage.calculatePrincipalPayment(step)\n",
    "    mortgage.calculateOutstandingAmount(step)\n",
    "    \n",
    "    paid_principal = paid_principal + mortgage.principal_payment[step]\n",
    "    paid_interest = paid_interest + mortgage.interest_payment[step]\n",
    "    \n",
    "    print('[step ' + str(step) + '] outstanding: ' + \"%.2f\"%mortgage.outstanding_amount[step] +\n",
    "         ' | mp: ' + \"%.2f\"%mortgage.monthly_payment +\n",
    "         ' | pp: ' + \"%.2f\"%mortgage.principal_payment[step] +\n",
    "         ' | ip: ' + \"%.2f\"%mortgage.interest_payment[step] +\n",
    "         ' | total pp: ' + \"%.2f\"%paid_principal +\n",
    "         ' | total ip: ' + \"%.2f\"%paid_interest)"
   ]
  },
  {
   "cell_type": "code",
   "execution_count": null,
   "metadata": {},
   "outputs": [],
   "source": [
    "inflation = 0.03\n",
    "market_trend = 0.02\n",
    "\n",
    "for step in range(0,10):\n",
    "    flat.projectPrice(step, inflation, market_trend)\n",
    "    print('[step ' + str(step) + '] flat price: ' + \"%.2f\"%flat.price[step])"
   ]
  },
  {
   "cell_type": "code",
   "execution_count": null,
   "metadata": {},
   "outputs": [],
   "source": [
    "property_tax= 25\n",
    "renovation_costs = 200\n",
    "renovation_steps = {5, 10}\n",
    "house_community_costs = 15\n",
    "    \n",
    "for step in range(0,11):\n",
    "    flat.projectCosts(step, property_tax, renovation_costs, renovation_steps, house_community_costs)\n",
    "    print('[step ' + str(step) + '] flat costs: ' + \"%.2f\"%flat.costs[step])"
   ]
  }
 ],
 "metadata": {
  "kernelspec": {
   "display_name": "Python 3",
   "language": "python",
   "name": "python3"
  },
  "language_info": {
   "codemirror_mode": {
    "name": "ipython",
    "version": 3
   },
   "file_extension": ".py",
   "mimetype": "text/x-python",
   "name": "python",
   "nbconvert_exporter": "python",
   "pygments_lexer": "ipython3",
   "version": "3.8.5"
  }
 },
 "nbformat": 4,
 "nbformat_minor": 4
}
