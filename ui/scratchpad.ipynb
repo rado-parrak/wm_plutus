{
 "cells": [
  {
   "cell_type": "code",
   "execution_count": 1,
   "metadata": {},
   "outputs": [
    {
     "data": {
      "text/plain": [
       "{'sell': [{'step': 1, 'id': 'a'}], 'nothing': [{'step': 1, 'id': 'b'}]}"
      ]
     },
     "execution_count": 1,
     "metadata": {},
     "output_type": "execute_result"
    }
   ],
   "source": [
    "events = {'sell': [{'step':1, 'id':'a'}], 'nothing':[{'step':1, 'id':'b'}]}\n",
    "events"
   ]
  },
  {
   "cell_type": "code",
   "execution_count": 2,
   "metadata": {},
   "outputs": [
    {
     "data": {
      "text/plain": [
       "[{'step': 2, 'id': 'c'}]"
      ]
     },
     "execution_count": 2,
     "metadata": {},
     "output_type": "execute_result"
    }
   ],
   "source": [
    "new_events = {'sell': [{'step':2, 'id':'c'}], 'transfer':[{'step':2, 'id':'d'}]}\n",
    "new_events['sell']"
   ]
  },
  {
   "cell_type": "code",
   "execution_count": 3,
   "metadata": {},
   "outputs": [],
   "source": [
    "def update_events(events:dict, new_events:dict) -> dict:\n",
    "    for k in new_events.keys():\n",
    "        if k in events.keys():\n",
    "            events[k].extend(new_events[k])\n",
    "        else:\n",
    "            events[k] = new_events[k]\n",
    "            \n",
    "    return(events)"
   ]
  },
  {
   "cell_type": "code",
   "execution_count": 4,
   "metadata": {},
   "outputs": [
    {
     "data": {
      "text/plain": [
       "{'sell': [{'step': 1, 'id': 'a'}, {'step': 2, 'id': 'c'}],\n",
       " 'nothing': [{'step': 1, 'id': 'b'}],\n",
       " 'transfer': [{'step': 2, 'id': 'd'}]}"
      ]
     },
     "execution_count": 4,
     "metadata": {},
     "output_type": "execute_result"
    }
   ],
   "source": [
    "events = update_events(events, new_events)\n",
    "events"
   ]
  },
  {
   "cell_type": "code",
   "execution_count": null,
   "metadata": {},
   "outputs": [],
   "source": []
  }
 ],
 "metadata": {
  "kernelspec": {
   "display_name": "Python 3",
   "language": "python",
   "name": "python3"
  },
  "language_info": {
   "codemirror_mode": {
    "name": "ipython",
    "version": 3
   },
   "file_extension": ".py",
   "mimetype": "text/x-python",
   "name": "python",
   "nbconvert_exporter": "python",
   "pygments_lexer": "ipython3",
   "version": "3.8.5"
  }
 },
 "nbformat": 4,
 "nbformat_minor": 4
}
