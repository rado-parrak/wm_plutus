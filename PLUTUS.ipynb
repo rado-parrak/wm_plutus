{
 "cells": [
  {
   "cell_type": "markdown",
   "metadata": {},
   "source": [
    "# run main"
   ]
  },
  {
   "cell_type": "code",
   "execution_count": 1,
   "metadata": {},
   "outputs": [],
   "source": [
    "# import into Jypyter path which is (for some reason) different than python path\n",
    "import sys\n",
    "sys.path.append(\"R:/01_Analytics/plutusIO/plutusIO/calculator\")\n",
    "sys.path.append(\"R:/01_Analytics/plutusIO/plutusIO/core\")\n",
    "sys.path.append(\"R:/01_Analytics/plutusIO/plutusIO/context\")"
   ]
  },
  {
   "cell_type": "code",
   "execution_count": 2,
   "metadata": {},
   "outputs": [
    {
     "name": "stdout",
     "output_type": "stream",
     "text": [
      "Calculation done!\n"
     ]
    }
   ],
   "source": [
    "import main"
   ]
  },
  {
   "cell_type": "markdown",
   "metadata": {},
   "source": [
    "# plot results"
   ]
  },
  {
   "cell_type": "code",
   "execution_count": 14,
   "metadata": {
    "hideCode": false,
    "hidePrompt": false,
    "scrolled": true
   },
   "outputs": [
    {
     "name": "stdout",
     "output_type": "stream",
     "text": [
      "       0\n",
      "0    100\n",
      "1    100\n",
      "2    100\n",
      "3    100\n",
      "4    100\n",
      "5    100\n",
      "6    100\n",
      "7    100\n",
      "8    100\n",
      "9    100\n",
      "10   100\n",
      "11   100\n",
      "12   100\n",
      "13   100\n",
      "14   100\n",
      "15   100\n",
      "16   100\n",
      "17   100\n",
      "18   100\n",
      "19   100\n",
      "20   100\n",
      "21   100\n",
      "22   100\n",
      "23   100\n",
      "24   100\n",
      "25   100\n",
      "26   100\n",
      "27   100\n",
      "28   100\n",
      "29   100\n",
      "..   ...\n",
      "90   100\n",
      "91   100\n",
      "92   100\n",
      "93   100\n",
      "94   100\n",
      "95   100\n",
      "96   100\n",
      "97   100\n",
      "98   100\n",
      "99   100\n",
      "100  100\n",
      "101  100\n",
      "102  100\n",
      "103  100\n",
      "104  100\n",
      "105  100\n",
      "106  100\n",
      "107  100\n",
      "108  100\n",
      "109  100\n",
      "110  100\n",
      "111  100\n",
      "112  100\n",
      "113  100\n",
      "114  100\n",
      "115  100\n",
      "116  100\n",
      "117  100\n",
      "118  100\n",
      "119  100\n",
      "\n",
      "[120 rows x 1 columns]\n"
     ]
    },
    {
     "data": {
      "image/png": "[encoded data removed]",
      "text/plain": [
       "<Figure size 432x288 with 1 Axes>"
      ]
     },
     "metadata": {},
     "output_type": "display_data"
    }
   ],
   "source": [
    "import matplotlib.pyplot as plt\n",
    "import _pickle as pickle\n",
    "import redis\n",
    "import pandas as pd\n",
    "\n",
    "# fetch results\n",
    "rredis = redis.StrictRedis(host='localhost', port=6379, db=0)\n",
    "root = pickle.loads(rredis.get('root'))\n",
    "\n",
    "# turn into Pandas data.frame\n",
    "plotData = pd.DataFrame.from_dict(root['resultBase']['runs']['uniqueRunID']['scenarios'][1]['parties']['00X'].grossWage, orient='index')\n",
    "#print(plotData)\n",
    "\n",
    "for label in plotData.columns.values:\n",
    "    plt.plot(plotData[label], label = label)\n",
    "plt.xlabel('Month')\n",
    "plt.ylabel('gross wage')\n",
    "plt.legend()\n",
    "plt.show()\n"
   ]
  }
 ],
 "metadata": {
  "celltoolbar": "Hide code",
  "kernelspec": {
   "display_name": "Python 3",
   "language": "python",
   "name": "python3"
  },
  "language_info": {
   "codemirror_mode": {
    "name": "ipython",
    "version": 3
   },
   "file_extension": ".py",
   "mimetype": "text/x-python",
   "name": "python",
   "nbconvert_exporter": "python",
   "pygments_lexer": "ipython3",
   "version": "3.7.0"
  }
 },
 "nbformat": 4,
 "nbformat_minor": 2
}
