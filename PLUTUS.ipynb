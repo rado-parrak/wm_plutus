{
 "cells": [
  {
   "cell_type": "markdown",
   "metadata": {},
   "source": [
    "# Settings:"
   ]
  },
  {
   "cell_type": "code",
   "execution_count": 1,
   "metadata": {},
   "outputs": [],
   "source": [
    "# Source data\n",
    "source_data = dict()\n",
    "\n",
    "# i) Party\n",
    "source_data['party'] = dict()\n",
    "source_data['party']['name'] = 'Rado'\n",
    "source_data['party']['monthly_income'] = 100\n",
    "\n",
    "# ii) Portfolio\n",
    "source_data['portfolio'] = []\n",
    "\n",
    "contract_1 = dict()\n",
    "contract_1['name'] = 'bezny_ucet'\n",
    "contract_1['type'] = 'current_account'\n",
    "contract_1['cnit'] = 0.0\n",
    "contract_1['current_outstanding'] = 120\n",
    "contract_1['monthly_cost'] = 0.0\n",
    "\n",
    "contract_2 = dict()\n",
    "contract_2['name'] = 'dalsi_bezny_ucet'\n",
    "contract_2['type'] = 'current_account'\n",
    "contract_2['cnit'] = 0.0\n",
    "contract_2['current_outstanding'] = 50\n",
    "contract_2['monthly_cost'] = 0.0\n",
    "\n",
    "source_data['portfolio'].append(contract_1) \n",
    "source_data['portfolio'].append(contract_2)\n",
    "\n",
    "# iii) Context\n",
    "source_data['context'] = dict()\n",
    "source_data['context']['event_domain'] = dict()\n",
    "source_data['context']['event_domain']['months'] = 10\n",
    "\n",
    "# iv) Behaviour\n",
    "source_data['behaviour'] = dict()\n",
    "source_data['scenario'] = []\n",
    "\n",
    "scenario_1 = dict()\n",
    "scenario_1['financial'] = dict()\n",
    "scenario_1['financial']['consumption_share'] = 0.3\n",
    "scenario_1['financial']['investment_share'] = 0.2\n",
    "scenario_1['financial']['portfolio_shares'] = [0.4, 0.6]\n",
    "\n",
    "source_data['scenario'].append(scenario_1)"
   ]
  },
  {
   "cell_type": "markdown",
   "metadata": {},
   "source": [
    "# Preparatory work"
   ]
  },
  {
   "cell_type": "code",
   "execution_count": null,
   "metadata": {},
   "outputs": [],
   "source": [
    "# i) Connect and flush REDIS:\n",
    "import redis\n",
    "r = redis.StrictRedis(host='localhost', port=6379, db=0)\n",
    "r.flushall()\n",
    "\n",
    "# ii) initialize the setup:\n",
    "import initializer\n",
    "import sourceData as sd\n",
    "from calculator import Calculator\n",
    "\n",
    "party      = initializer.initializeParty(source_data)\n",
    "context    = initializer.initializeContext(source_data)\n",
    "behaviour  = initializer.initializeBehaviour(source_data)"
   ]
  },
  {
   "cell_type": "code",
   "execution_count": 2,
   "metadata": {
    "hideCode": false
   },
   "outputs": [
    {
     "name": "stdout",
     "output_type": "stream",
     "text": [
      "<context.party.Party object at 0x000001A61E385AC8>\n"
     ]
    },
    {
     "data": {
      "text/plain": [
       "\"\\nimport numpy as np\\nfrom context.eventDomain import EventDomain\\nfrom context.portfolio import Portfolio\\nfrom products.currentAccount import CurrentAccount\\nimport initializer\\nfrom calculator.calculator import Calculator\\n\\njoe        = initializer.initializeJoe()\\ncontext    = initializer.initializeContext()\\nbehaviour  = initializer.initializeBehaviour()\\n\\n# CALCULATE:\\ncalc = Calculator(joe, context, behaviour)\\npw = calc.projectPortfolioWeights('standard')\\nprint(pw)\\n\""
      ]
     },
     "execution_count": 2,
     "metadata": {},
     "output_type": "execute_result"
    }
   ],
   "source": [
    "import initializer\n",
    "\n",
    "rado = initializer.initializeParty(source_data)\n",
    "print(rado)\n",
    "\n",
    "'''\n",
    "import numpy as np\n",
    "from context.eventDomain import EventDomain\n",
    "from context.portfolio import Portfolio\n",
    "from products.currentAccount import CurrentAccount\n",
    "import initializer\n",
    "from calculator.calculator import Calculator\n",
    "\n",
    "joe        = initializer.initializeJoe()\n",
    "context    = initializer.initializeContext()\n",
    "behaviour  = initializer.initializeBehaviour()\n",
    "\n",
    "# CALCULATE:\n",
    "calc = Calculator(joe, context, behaviour)\n",
    "pw = calc.projectPortfolioWeights('standard')\n",
    "print(pw)\n",
    "'''"
   ]
  },
  {
   "cell_type": "code",
   "execution_count": null,
   "metadata": {
    "hideCode": false,
    "hidePrompt": false
   },
   "outputs": [],
   "source": [
    "import matplotlib.pyplot as plt\n",
    "\n",
    "plt.plot(pw.index, pw.CSOB_bezny_ucet_2, label = 'linear')\n",
    "plt.xlabel('Months')\n",
    "plt.ylabel('Share')\n",
    "plt.show()"
   ]
  }
 ],
 "metadata": {
  "celltoolbar": "Hide code",
  "kernelspec": {
   "display_name": "Python 3",
   "language": "python",
   "name": "python3"
  },
  "language_info": {
   "codemirror_mode": {
    "name": "ipython",
    "version": 3
   },
   "file_extension": ".py",
   "mimetype": "text/x-python",
   "name": "python",
   "nbconvert_exporter": "python",
   "pygments_lexer": "ipython3",
   "version": "3.7.0"
  }
 },
 "nbformat": 4,
 "nbformat_minor": 2
}
