{
 "cells": [
  {
   "cell_type": "markdown",
   "metadata": {},
   "source": [
    "# run main"
   ]
  },
  {
   "cell_type": "code",
   "execution_count": 1,
   "metadata": {},
   "outputs": [],
   "source": [
    "# import into Jypyter path which is (for some reason) different than python path\n",
    "import sys\n",
    "sys.path.append(\"R:/01_Analytics/plutusIO/plutusIO/calculator\")\n",
    "sys.path.append(\"R:/01_Analytics/plutusIO/plutusIO/core\")\n",
    "sys.path.append(\"R:/01_Analytics/plutusIO/plutusIO/context\")"
   ]
  },
  {
   "cell_type": "code",
   "execution_count": 2,
   "metadata": {},
   "outputs": [
    {
     "ename": "IndentationError",
     "evalue": "expected an indented block (party.py, line 48)",
     "output_type": "error",
     "traceback": [
      "Traceback \u001b[1;36m(most recent call last)\u001b[0m:\n",
      "  File \u001b[0;32m\"c:\\users\\radov\\appdata\\local\\programs\\python\\python37\\lib\\site-packages\\IPython\\core\\interactiveshell.py\"\u001b[0m, line \u001b[0;32m2963\u001b[0m, in \u001b[0;35mrun_code\u001b[0m\n    exec(code_obj, self.user_global_ns, self.user_ns)\n",
      "  File \u001b[0;32m\"<ipython-input-2-63b75181c34a>\"\u001b[0m, line \u001b[0;32m1\u001b[0m, in \u001b[0;35m<module>\u001b[0m\n    import main\n",
      "  File \u001b[0;32m\"R:\\01_Analytics\\plutusIO\\plutusIO\\main.py\"\u001b[0m, line \u001b[0;32m7\u001b[0m, in \u001b[0;35m<module>\u001b[0m\n    from initialize import Initialize\n",
      "\u001b[1;36m  File \u001b[1;32m\"R:/01_Analytics/plutusIO/plutusIO/core\\initialize.py\"\u001b[1;36m, line \u001b[1;32m9\u001b[1;36m, in \u001b[1;35m<module>\u001b[1;36m\u001b[0m\n\u001b[1;33m    from context.party import Party\u001b[0m\n",
      "\u001b[1;36m  File \u001b[1;32m\"R:\\01_Analytics\\plutusIO\\plutusIO\\context\\party.py\"\u001b[1;36m, line \u001b[1;32m48\u001b[0m\n\u001b[1;33m    def allocate(self, selectedBehaviourScheme, *args):\u001b[0m\n\u001b[1;37m      ^\u001b[0m\n\u001b[1;31mIndentationError\u001b[0m\u001b[1;31m:\u001b[0m expected an indented block\n"
     ]
    }
   ],
   "source": [
    "import main"
   ]
  },
  {
   "cell_type": "markdown",
   "metadata": {},
   "source": [
    "# plot results"
   ]
  },
  {
   "cell_type": "code",
   "execution_count": 4,
   "metadata": {
    "hideCode": false,
    "hidePrompt": false,
    "scrolled": true
   },
   "outputs": [
    {
     "data": {
      "image/png": "[encoded data removed]",
      "text/plain": [
       "<Figure size 432x288 with 1 Axes>"
      ]
     },
     "metadata": {},
     "output_type": "display_data"
    }
   ],
   "source": [
    "import matplotlib.pyplot as plt\n",
    "import _pickle as pickle\n",
    "import redis\n",
    "import pandas as pd\n",
    "\n",
    "# fetch results\n",
    "rredis = redis.StrictRedis(host='localhost', port=6379, db=0)\n",
    "root = pickle.loads(rredis.get('root'))\n",
    "\n",
    "# turn into Pandas data.frame\n",
    "plotData = pd.DataFrame.from_dict(root['resultBase']['runs']['uniqueRunID']['scenarios'][1]['parties']['00X'].grossWage, orient='index')\n",
    "#print(plotData)\n",
    "\n",
    "for label in plotData.columns.values:\n",
    "    plt.plot(plotData[label], label = label)\n",
    "plt.xlabel('Month')\n",
    "plt.ylabel('gross wage')\n",
    "plt.legend()\n",
    "plt.show()\n"
   ]
  },
  {
   "cell_type": "code",
   "execution_count": null,
   "metadata": {},
   "outputs": [],
   "source": []
  }
 ],
 "metadata": {
  "celltoolbar": "Hide code",
  "kernelspec": {
   "display_name": "Python 3",
   "language": "python",
   "name": "python3"
  },
  "language_info": {
   "codemirror_mode": {
    "name": "ipython",
    "version": 3
   },
   "file_extension": ".py",
   "mimetype": "text/x-python",
   "name": "python",
   "nbconvert_exporter": "python",
   "pygments_lexer": "ipython3",
   "version": "3.7.0"
  }
 },
 "nbformat": 4,
 "nbformat_minor": 2
}
